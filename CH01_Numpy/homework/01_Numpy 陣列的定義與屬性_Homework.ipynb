{
 "cells": [
  {
   "cell_type": "markdown",
   "metadata": {
    "id": "P6xk2_jLsvFF"
   },
   "source": [
    "# [作業目標]\n",
    "\n",
    "1. [簡答題] 請問下列兩種將 Array 轉換成 List 的方式有何不同？\n",
    "\n",
    "```\n",
    "print('list(a): ', list(a))\n",
    "print('tolist(): ', a.tolist())\n",
    "```\n",
    "\n",
    "2. 請試著在程式中印出以下三個 NdArray 的屬性？（屬性：ndim、shape、size、dtype、itemsize、length、type）\n",
    "\n",
    "```\n",
    "a = np.random.randint(10, size=6) \n",
    "b = np.random.randint(10, size=(3,4)) \n",
    "c = np.random.randint(10, size=(2,3,2)) \n",
    "```\n",
    "\n",
    "3. 如何利用 list(...) 實現 a.tolist() 的效果？試著用程式實作。\n"
   ]
  },
  {
   "cell_type": "markdown",
   "metadata": {
    "id": "uXGll28asvFS"
   },
   "source": [
    "# 作業 "
   ]
  },
  {
   "cell_type": "markdown",
   "metadata": {
    "id": "SYkvkp9YLwB7"
   },
   "source": [
    "### 1. [簡答題] 請問下列兩種將 Array 轉換成 List 的方式有何不同？\n",
    "\n",
    "```\n",
    "print('list(a): ', list(a))\n",
    "print('tolist(): ', a.tolist())\n",
    "```\n"
   ]
  },
  {
   "cell_type": "code",
   "execution_count": null,
   "metadata": {
    "id": "5QrYoyNWsvFS",
    "outputId": "13f374d0-6f1b-47aa-bbac-c7d1a8c6995c"
   },
   "outputs": [
    {
     "data": {
      "text/plain": [
       "'\\nYour Code\\n'"
      ]
     },
     "execution_count": 3,
     "metadata": {
      "tags": []
     },
     "output_type": "execute_result"
    }
   ],
   "source": [
    "'''\n",
    "Ans: list(a) for 2維 ndarray 會轉換成 1維的list ，但是元素還是 array\n",
    "     a.tolist() 將 2維的 ndarray 轉換成 2維的list，元素是數字\n",
    "'''"
   ]
  },
  {
   "cell_type": "markdown",
   "metadata": {
    "id": "AC9wUCyALwB9"
   },
   "source": [
    "### 2. 請試著在程式中印出以下三個 NdArray 的屬性並且解釋結果？（屬性：ndim、shape、size、dtype、itemsize、length、type）\n",
    "\n",
    "```\n",
    "a = np.random.randint(10, size=6) \n",
    "b = np.random.randint(10, size=(3,4)) \n",
    "c = np.random.randint(10, size=(2,3,2)) \n",
    "```"
   ]
  },
  {
   "cell_type": "code",
   "execution_count": 8,
   "metadata": {
    "id": "4qARRsdtLwB-"
   },
   "outputs": [
    {
     "name": "stdout",
     "output_type": "stream",
     "text": [
      "-------------------------a = [9 4 8 8 8 7]\n",
      "type(a)= <class 'numpy.ndarray'>\n",
      "a.ndim= 1\n",
      "a.shape= (6,)\n",
      "a.size= 6\n",
      "a.dtype= int32\n",
      "a.itemsize= 4\n",
      "a.data= <memory at 0x000001CEE4424640>\n",
      "-------------------------b =\n",
      " [[4 0 1 0]\n",
      " [6 9 0 4]\n",
      " [2 8 1 4]]\n",
      "type(b)= <class 'numpy.ndarray'>\n",
      "b.ndim= 2\n",
      "b.shape= (3, 4)\n",
      "b.size= 12\n",
      "b.dtype= int32\n",
      "b.itemsize= 4\n",
      "b.data= <memory at 0x000001CEE44446C0>\n",
      "-------------------------c =\n",
      " [[[8 8]\n",
      "  [9 7]\n",
      "  [4 4]]\n",
      "\n",
      " [[0 1]\n",
      "  [0 1]\n",
      "  [3 7]]]\n",
      "type(c)= <class 'numpy.ndarray'>\n",
      "c.ndim= 3\n",
      "c.shape= (2, 3, 2)\n",
      "c.size= 12\n",
      "c.dtype= int32\n",
      "c.itemsize= 4\n",
      "c.data= <memory at 0x000001CEE44A5B80>\n"
     ]
    }
   ],
   "source": [
    "import numpy as np\n",
    "a = np.random.randint(10, size=6) \n",
    "b = np.random.randint(10, size=(3,4)) \n",
    "c = np.random.randint(10, size=(2,3,2)) \n",
    "print('-------------------------a =',a)\n",
    "print('type(a)=',type(a))  # type(a)= <class 'numpy.ndarray'>\n",
    "print('a.ndim=',a.ndim)    # 陣列有多少維度\n",
    "print('a.shape=',a.shape)  # 每個維度的大小\n",
    "print('a.size=',a.size)    # 陣列當中有幾個元素\n",
    "print('a.dtype=',a.dtype)  #  陣列中的資料型態\n",
    "print('a.itemsize=',a.itemsize)  # 陣列中每個元素佔用的空間\n",
    "print('a.data=',a.data)    # 陣列所存在的記憶體位置\n",
    "\n",
    "print('-------------------------b =\\n',b)\n",
    "print('type(b)=',type(b))  # type(a)= <class 'numpy.ndarray'>\n",
    "print('b.ndim=',b.ndim)    # 陣列有多少維度\n",
    "print('b.shape=',b.shape)  # 每個維度的大小\n",
    "print('b.size=',b.size)    # 陣列當中有幾個元素\n",
    "print('b.dtype=',b.dtype)  #  陣列中的資料型態\n",
    "print('b.itemsize=',b.itemsize)  # 陣列中每個元素佔用的空間\n",
    "print('b.data=',b.data)    # 陣列所存在的記憶體位置\n",
    "\n",
    "print('-------------------------c =\\n',c)\n",
    "print('type(c)=',type(c))  # type(a)= <class 'numpy.ndarray'>\n",
    "print('c.ndim=',c.ndim)    # 陣列有多少維度\n",
    "print('c.shape=',c.shape)  # 每個維度的大小\n",
    "print('c.size=',c.size)    # 陣列當中有幾個元素\n",
    "print('c.dtype=',c.dtype)  #  陣列中的資料型態\n",
    "print('c.itemsize=',c.itemsize)  # 陣列中每個元素佔用的空間\n",
    "print('c.data=',c.data)    # 陣列所存在的記憶體位置"
   ]
  },
  {
   "cell_type": "code",
   "execution_count": null,
   "metadata": {
    "id": "e1gVI0tvsvFY",
    "outputId": "9be10770-9042-40c8-c4bc-217b84be9fc9"
   },
   "outputs": [
    {
     "name": "stdout",
     "output_type": "stream",
     "text": [
      "[1 1 2 0 1 6]\n",
      "1\n",
      "(6,)\n",
      "6\n",
      "int64\n",
      "8\n",
      "6\n",
      "<class 'numpy.ndarray'>\n"
     ]
    }
   ],
   "source": [
    "\n",
    "a = np.random.randint(10, size=6) \n",
    "\n",
    "'''\n",
    "Your Code\n",
    "'''"
   ]
  },
  {
   "cell_type": "code",
   "execution_count": null,
   "metadata": {
    "id": "iIJrIr7kLwB_",
    "outputId": "083c5519-394c-404e-9764-100c4ed5118a"
   },
   "outputs": [
    {
     "name": "stdout",
     "output_type": "stream",
     "text": [
      "[[0 7 9 3]\n",
      " [8 2 7 7]\n",
      " [9 3 3 3]]\n",
      "2\n",
      "(3, 4)\n",
      "12\n",
      "int64\n",
      "8\n",
      "3\n",
      "<class 'numpy.ndarray'>\n"
     ]
    }
   ],
   "source": [
    "b = np.random.randint(10, size=(3,4)) \n",
    "\n",
    "'''\n",
    "Your Code\n",
    "'''"
   ]
  },
  {
   "cell_type": "code",
   "execution_count": null,
   "metadata": {
    "id": "98SRFh_FLwCC",
    "outputId": "dc65dfac-9ae6-49d2-f854-88eccebc2aac"
   },
   "outputs": [
    {
     "name": "stdout",
     "output_type": "stream",
     "text": [
      "[[[1 3]\n",
      "  [2 8]\n",
      "  [2 5]]\n",
      "\n",
      " [[0 0]\n",
      "  [8 0]\n",
      "  [1 6]]]\n",
      "3\n",
      "(2, 3, 2)\n",
      "12\n",
      "int64\n",
      "8\n",
      "2\n",
      "<class 'numpy.ndarray'>\n"
     ]
    }
   ],
   "source": [
    "c = np.random.randint(10, size=(2,3,2)) \n",
    "\n",
    "'''\n",
    "Your Code\n",
    "'''"
   ]
  },
  {
   "cell_type": "markdown",
   "metadata": {
    "id": "Uf6zC0QZLwCE"
   },
   "source": [
    "### 3. 如何利用 list(...) 實現 a.tolist() 的效果？試著用程式實作。\n"
   ]
  },
  {
   "cell_type": "code",
   "execution_count": null,
   "metadata": {
    "id": "sCUzHu_BLwCF",
    "outputId": "ba9c8945-8efb-42b1-f978-2bbdda97accd"
   },
   "outputs": [
    {
     "name": "stdout",
     "output_type": "stream",
     "text": [
      "[7, 6, 7, 3, 7, 5]\n",
      "[7, 6, 7, 3, 7, 5]\n"
     ]
    }
   ],
   "source": [
    "a = np.random.randint(10, size=6) \n",
    "\n",
    "print(a.tolist())\n",
    "print(list(a))\n"
   ]
  },
  {
   "cell_type": "code",
   "execution_count": null,
   "metadata": {
    "id": "IUkVtw8RLwCG",
    "outputId": "e39875a5-5ec7-431b-c12a-485acc167e44"
   },
   "outputs": [
    {
     "name": "stdout",
     "output_type": "stream",
     "text": [
      "[[5, 7, 4, 6], [9, 4, 0, 1], [9, 1, 2, 9]]\n",
      "[array([5, 7, 4, 6]), array([9, 4, 0, 1]), array([9, 1, 2, 9])]\n"
     ]
    }
   ],
   "source": [
    "b = np.random.randint(10, size=(3,4)) \n",
    "\n",
    "print(b.tolist())\n",
    "print(list(b))\n"
   ]
  },
  {
   "cell_type": "code",
   "execution_count": null,
   "metadata": {
    "id": "NPhF8_CqLwCG",
    "outputId": "51fab908-5bfd-415f-9584-92bb376648c8"
   },
   "outputs": [
    {
     "name": "stdout",
     "output_type": "stream",
     "text": [
      "[[[0, 4], [0, 1], [9, 5]], [[8, 7], [8, 2], [6, 0]]]\n",
      "[array([[0, 4],\n",
      "       [0, 1],\n",
      "       [9, 5]]), array([[8, 7],\n",
      "       [8, 2],\n",
      "       [6, 0]])]\n"
     ]
    }
   ],
   "source": [
    "c = np.random.randint(10, size=(2,3,2)) \n",
    "\n",
    "print(c.tolist())\n",
    "print(list(c))\n"
   ]
  },
  {
   "cell_type": "code",
   "execution_count": null,
   "metadata": {
    "id": "3Hc8vQYtLwCH",
    "outputId": "1290bc93-84ca-4da4-eb1a-315da37afaff"
   },
   "outputs": [
    {
     "name": "stdout",
     "output_type": "stream",
     "text": [
      "[7, 6, 7, 3, 7, 5]\n",
      "[[5, 7, 4, 6], [9, 4, 0, 1], [9, 1, 2, 9]]\n",
      "[[[0, 4], [0, 1], [9, 5]], [[8, 7], [8, 2], [6, 0]]]\n"
     ]
    }
   ],
   "source": [
    "def tolist(iterable):\n",
    "    '''\n",
    "    Your Code\n",
    "    '''\n",
    "\n",
    "print(tolist(a))\n",
    "print(tolist(b))\n",
    "print(tolist(c))"
   ]
  },
  {
   "cell_type": "code",
   "execution_count": null,
   "metadata": {
    "id": "2lDVOwFpLwCJ",
    "outputId": "ddfa84e4-3d32-4a68-c250-f57b2f66d830"
   },
   "outputs": [
    {
     "name": "stdout",
     "output_type": "stream",
     "text": [
      "[7, 6, 7, 3, 7, 5]\n",
      "[[5, 7, 4, 6], [9, 4, 0, 1], [9, 1, 2, 9]]\n",
      "[[[0, 4], [0, 1], [9, 5]], [[8, 7], [8, 2], [6, 0]]]\n"
     ]
    }
   ],
   "source": []
  },
  {
   "cell_type": "code",
   "execution_count": null,
   "metadata": {
    "id": "tvqCpuFILwCK"
   },
   "outputs": [],
   "source": []
  },
  {
   "cell_type": "code",
   "execution_count": null,
   "metadata": {
    "id": "640whg6NLwCK"
   },
   "outputs": [],
   "source": []
  }
 ],
 "metadata": {
  "colab": {
   "name": "01Homework_維元.ipynb",
   "provenance": []
  },
  "kernelspec": {
   "display_name": "Python 3 (ipykernel)",
   "language": "python",
   "name": "python3"
  },
  "language_info": {
   "codemirror_mode": {
    "name": "ipython",
    "version": 3
   },
   "file_extension": ".py",
   "mimetype": "text/x-python",
   "name": "python",
   "nbconvert_exporter": "python",
   "pygments_lexer": "ipython3",
   "version": "3.8.13"
  }
 },
 "nbformat": 4,
 "nbformat_minor": 1
}
