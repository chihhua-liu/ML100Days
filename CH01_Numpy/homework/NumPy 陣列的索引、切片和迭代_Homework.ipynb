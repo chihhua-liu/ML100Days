{
 "cells": [
  {
   "cell_type": "markdown",
   "metadata": {
    "colab_type": "text",
    "id": "P6xk2_jLsvFF"
   },
   "source": [
    "# [作業目標]\n",
    "\n",
    "1. 請比較對一個 100 x 100 * 100 的陣列，使用不同方法對每一個元素 +1 的時間比較。\n",
    "\n",
    "2. 如何從一個陣列中，找出出現頻率最高的數值與位置？\n",
    "\n",
    "3. 如何利用 list(...) 實現 a.tolist() 的效果？試著用程式實作。\n"
   ]
  },
  {
   "cell_type": "markdown",
   "metadata": {
    "colab_type": "text",
    "id": "uXGll28asvFS"
   },
   "source": [
    "# 作業 "
   ]
  },
  {
   "cell_type": "markdown",
   "metadata": {},
   "source": [
    "### 1. 請比較對一個 1000 x 100 x 100 的陣列，使用不同方法對每一個元素 +1 的時間比較。\n",
    "\n",
    "\n"
   ]
  },
  {
   "cell_type": "code",
   "execution_count": 5,
   "metadata": {},
   "outputs": [],
   "source": [
    "# 記得先 Import 正確的套件\n",
    "import numpy as np"
   ]
  },
  {
   "cell_type": "code",
   "execution_count": 10,
   "metadata": {
    "colab": {},
    "colab_type": "code",
    "id": "5QrYoyNWsvFS"
   },
   "outputs": [
    {
     "name": "stdout",
     "output_type": "stream",
     "text": [
      "[[[7 1 3 ... 2 2 8]\n",
      "  [2 1 3 ... 3 7 4]\n",
      "  [6 3 9 ... 5 2 6]\n",
      "  ...\n",
      "  [6 8 2 ... 7 6 2]\n",
      "  [2 4 7 ... 5 7 3]\n",
      "  [1 1 1 ... 5 5 2]]\n",
      "\n",
      " [[7 8 4 ... 3 5 4]\n",
      "  [7 8 2 ... 5 7 9]\n",
      "  [3 9 1 ... 6 7 6]\n",
      "  ...\n",
      "  [3 7 7 ... 7 3 6]\n",
      "  [5 2 8 ... 0 7 0]\n",
      "  [1 5 4 ... 1 2 9]]\n",
      "\n",
      " [[7 6 4 ... 4 5 7]\n",
      "  [2 9 4 ... 7 2 5]\n",
      "  [5 2 1 ... 0 2 0]\n",
      "  ...\n",
      "  [8 2 2 ... 5 5 0]\n",
      "  [9 9 8 ... 1 3 2]\n",
      "  [0 7 4 ... 3 0 7]]\n",
      "\n",
      " ...\n",
      "\n",
      " [[5 7 2 ... 0 4 1]\n",
      "  [1 0 1 ... 2 6 9]\n",
      "  [5 9 2 ... 2 6 1]\n",
      "  ...\n",
      "  [7 4 3 ... 6 1 3]\n",
      "  [4 6 4 ... 2 6 7]\n",
      "  [5 1 6 ... 6 4 7]]\n",
      "\n",
      " [[4 9 5 ... 8 0 1]\n",
      "  [8 7 6 ... 9 1 0]\n",
      "  [5 5 1 ... 6 9 8]\n",
      "  ...\n",
      "  [1 1 0 ... 1 2 4]\n",
      "  [9 2 0 ... 5 8 2]\n",
      "  [2 3 4 ... 3 9 6]]\n",
      "\n",
      " [[2 9 4 ... 5 7 3]\n",
      "  [9 1 0 ... 6 5 3]\n",
      "  [4 7 3 ... 7 2 4]\n",
      "  ...\n",
      "  [6 2 6 ... 3 8 7]\n",
      "  [3 5 1 ... 7 1 5]\n",
      "  [5 3 5 ... 1 8 1]]]\n"
     ]
    }
   ],
   "source": [
    "Z = np.random.randint(0, 10, 1000000).reshape(100, 100, 100)\n",
    "print(Z)"
   ]
  },
  {
   "cell_type": "code",
   "execution_count": 28,
   "metadata": {},
   "outputs": [
    {
     "name": "stdout",
     "output_type": "stream",
     "text": [
      "31.4 ns ± 8.33 ns per loop (mean ± std. dev. of 7 runs, 10 loops each)\n"
     ]
    }
   ],
   "source": [
    "%timeit -n 10 a = 2\n",
    "for indxe_x, a in enumerate(Z): \n",
    "    for indxe_y ,b in enumerate(a):\n",
    "        for indxe_z, c in enumerate(b):\n",
    "            Z[indxe_x,indxe_y,indxe_z] = Z[indxe_x,indxe_y,indxe_z]+1\n",
    "# print(Z)"
   ]
  },
  {
   "cell_type": "code",
   "execution_count": 73,
   "metadata": {},
   "outputs": [
    {
     "name": "stdout",
     "output_type": "stream",
     "text": [
      "30 ns ± 9.26 ns per loop (mean ± std. dev. of 7 runs, 10 loops each)\n"
     ]
    }
   ],
   "source": [
    "%timeit -n 10 a = 2\n",
    "for i in np.nditer(Z):\n",
    "    i = i+1"
   ]
  },
  {
   "cell_type": "code",
   "execution_count": 72,
   "metadata": {},
   "outputs": [
    {
     "name": "stdout",
     "output_type": "stream",
     "text": [
      "57.1 ns ± 26 ns per loop (mean ± std. dev. of 7 runs, 10 loops each)\n"
     ]
    }
   ],
   "source": [
    "%timeit -n 10 a = 2\n",
    "for i in Z.flat:\n",
    "    i = i+1"
   ]
  },
  {
   "cell_type": "code",
   "execution_count": 27,
   "metadata": {},
   "outputs": [
    {
     "name": "stdout",
     "output_type": "stream",
     "text": [
      "35.7 ns ± 10.5 ns per loop (mean ± std. dev. of 7 runs, 10 loops each)\n"
     ]
    }
   ],
   "source": [
    "Z = np.random.randint(0, 10, 1000000).reshape(100, 100, 100)\n",
    "%timeit -n 10 a = 2\n",
    "# print(Z)\n",
    "#print('-------------------------------------')\n",
    "Z = Z+1\n",
    "# print(Z)"
   ]
  },
  {
   "cell_type": "code",
   "execution_count": 26,
   "metadata": {},
   "outputs": [
    {
     "name": "stdout",
     "output_type": "stream",
     "text": [
      "Z[0]=\n",
      " [[6 3 0 ... 9 7 4]\n",
      " [9 9 4 ... 8 7 3]\n",
      " [6 9 0 ... 2 3 5]\n",
      " ...\n",
      " [3 9 8 ... 8 9 9]\n",
      " [8 7 7 ... 6 7 7]\n",
      " [6 5 2 ... 0 5 4]]\n",
      "32.9 ns ± 11.6 ns per loop (mean ± std. dev. of 7 runs, 10 loops each)\n"
     ]
    }
   ],
   "source": [
    "Z = np.random.randint(0, 10, 1000000).reshape(100, 100, 100)\n",
    "print('Z[0]=\\n',Z[0])\n",
    "%timeit -n 10 a = 2\n",
    "it = np.nditer(Z, flags = ['multi_index'])\n",
    "while not it.finished:\n",
    "    Z[it.multi_index]= Z[it.multi_index]+1\n",
    "    it.iternext()\n",
    "# print('Z[0]=\\n',Z[0])\n"
   ]
  },
  {
   "cell_type": "markdown",
   "metadata": {},
   "source": [
    "### 2. 如何從一個陣列中，找出出現頻率最高的數值與位置？\n"
   ]
  },
  {
   "cell_type": "code",
   "execution_count": 50,
   "metadata": {
    "colab": {},
    "colab_type": "code",
    "id": "e1gVI0tvsvFY"
   },
   "outputs": [
    {
     "name": "stdout",
     "output_type": "stream",
     "text": [
      "[6 4 5 2 1 9 4 4 2 6 7 9 4 8 8 9 0 6 7 9 8 4 1 0 6 2 0 9 3 2 2 4 6 8 2 0 0\n",
      " 6 7 3 9 6 6 3 5 5 9 5 3 8]\n"
     ]
    }
   ],
   "source": [
    "Z = np.random.randint(0,10,50)\n",
    "print(Z)"
   ]
  },
  {
   "cell_type": "code",
   "execution_count": 75,
   "metadata": {},
   "outputs": [
    {
     "name": "stdout",
     "output_type": "stream",
     "text": [
      "6\n",
      "np.bincount(Z)= [5 2 6 4 6 4 8 3 5 7]\n",
      "[ 0  9 17 24 32 37 41 42]\n"
     ]
    }
   ],
   "source": [
    "rint = (np.bincount(Z).argmax())\n",
    "print(rint)\n",
    "print('np.bincount(Z)=',np.bincount(Z))\n",
    "print(np.where(Z == rint)[0])"
   ]
  },
  {
   "cell_type": "code",
   "execution_count": 76,
   "metadata": {},
   "outputs": [
    {
     "name": "stdout",
     "output_type": "stream",
     "text": [
      "[5 2 6 4 6 4 8 3 5 7]\n",
      "出現頻率最高的數值= 6\n"
     ]
    }
   ],
   "source": [
    "hist,bins = np.histogram(Z) \n",
    "print(hist)\n",
    "hightest= hist.argmax()\n",
    "print('出現頻率最高的數值=',hightest)"
   ]
  },
  {
   "cell_type": "code",
   "execution_count": 77,
   "metadata": {},
   "outputs": [
    {
     "name": "stdout",
     "output_type": "stream",
     "text": [
      "出現頻率最高的數值的位置= [0, 9, 17, 24, 32, 37, 41, 42]\n"
     ]
    }
   ],
   "source": [
    "list1 =[]\n",
    "for index, a in enumerate(Z):\n",
    "    if  a == hightest :\n",
    "         list1.append(index)\n",
    "print('出現頻率最高的數值的位置=',list1)"
   ]
  },
  {
   "cell_type": "markdown",
   "metadata": {},
   "source": [
    "### 3. 如何利用 list(...) 實現 a.tolist() 的效果？試著用程式實作。\n"
   ]
  },
  {
   "cell_type": "code",
   "execution_count": 79,
   "metadata": {},
   "outputs": [
    {
     "name": "stdout",
     "output_type": "stream",
     "text": [
      "[9, 8, 0, 4, 0, 4]\n",
      "[[5, 7, 2, 8], [0, 9, 1, 9], [0, 7, 8, 2]]\n",
      "[[[5, 4], [8, 9], [7, 9]], [[5, 2], [8, 6], [0, 6]]]\n"
     ]
    }
   ],
   "source": [
    "a = np.random.randint(10, size=6) \n",
    "def tolist(iterable):\n",
    "    if type(iterable) != np.ndarray:\n",
    "        return iterable\n",
    "    return [tolist(obj) for obj in iterable]\n",
    "\n",
    "print(tolist(a))\n",
    "print(tolist(b))\n",
    "print(tolist(c))"
   ]
  },
  {
   "cell_type": "code",
   "execution_count": 71,
   "metadata": {},
   "outputs": [
    {
     "name": "stdout",
     "output_type": "stream",
     "text": [
      "a= [4 5 1 0 2 2]\n",
      "a.tolist()= [4, 5, 1, 0, 2, 2]\n",
      "list1= [4, 5, 1, 0, 2, 2]\n"
     ]
    }
   ],
   "source": [
    "a = np.random.randint(10, size=6) \n",
    "print('a=',a)\n",
    "print('a.tolist()=',a.tolist())\n",
    "\n",
    "list1=[]\n",
    "for value in a:\n",
    "    list1.append(value)\n",
    "print('list1=',list1)\n",
    "# print('-------------------------------------')\n",
    "# it = np.nditer(b, flags = ['multi_index'])\n",
    "# print('--------------------------------------')\n",
    "# b = np.random.randint(10, size=(3,4)) \n",
    "# print('b=',b)\n",
    "# list2=[]\n",
    "# print('b.tolist()=\\n',b.tolist())\n",
    "# while not it.finished:\n",
    "#     print(it.multi_index)\n",
    "#     list2.append(it.multi_index) = b(it.multi_index)\n",
    "#     np.append(a, [[1,2,3,4]], 0) \n",
    "#    # list1[it.multi_index[0],it.multi_index[1],it.multi_index[2]]=b[,it.multi_index] \n",
    "#    it.iternext()\n",
    "# c = np.random.randint(10, size=(2,3,2)) \n",
    "# print('c.tolist()=\\n',c.tolist())\n",
    "# print('list(c)',list(c))\n"
   ]
  },
  {
   "cell_type": "code",
   "execution_count": null,
   "metadata": {},
   "outputs": [],
   "source": [
    "'''\n",
    "Your Code\n",
    "'''"
   ]
  }
 ],
 "metadata": {
  "colab": {
   "name": "Day_023_HW.ipynb",
   "provenance": []
  },
  "kernelspec": {
   "display_name": "Python 3",
   "language": "python",
   "name": "python3"
  },
  "language_info": {
   "codemirror_mode": {
    "name": "ipython",
    "version": 3
   },
   "file_extension": ".py",
   "mimetype": "text/x-python",
   "name": "python",
   "nbconvert_exporter": "python",
   "pygments_lexer": "ipython3",
   "version": "3.8.8"
  }
 },
 "nbformat": 4,
 "nbformat_minor": 4
}
