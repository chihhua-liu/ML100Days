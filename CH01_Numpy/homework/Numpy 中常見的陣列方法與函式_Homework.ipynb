{
 "cells": [
  {
   "cell_type": "markdown",
   "metadata": {
    "id": "P6xk2_jLsvFF"
   },
   "source": [
    "# [作業目標]\n",
    "\n",
    "1. [簡答題] 請問下列這三種方法有什麼不同？\n",
    "\n",
    "```\n",
    "print(a.sum()) \n",
    "print(np.sum(a))\n",
    "print(sum(a)) \n",
    "```\n",
    "\n",
    "2. 請對一個 5x5 的隨機矩陣作正規化的操作。\n",
    "\n",
    "3. 請建立一個長度等於 10 的正整數向量，並且將其中的最大值改成 -1。\n"
   ]
  },
  {
   "cell_type": "markdown",
   "metadata": {
    "id": "uXGll28asvFS"
   },
   "source": [
    "# 作業 "
   ]
  },
  {
   "cell_type": "markdown",
   "metadata": {
    "id": "lbz8VjL6jxyL"
   },
   "source": [
    "### 1. [簡答題] 請問下列這三種方法有什麼不同？\n",
    "\n",
    "```\n",
    "print(a.sum()) \n",
    "print(np.sum(a))\n",
    "print(sum(a)) \n",
    "```\n",
    "\n"
   ]
  },
  {
   "cell_type": "code",
   "execution_count": 7,
   "metadata": {
    "id": "5QrYoyNWsvFS",
    "outputId": "e9e14d36-38ce-4ce5-edf2-3c7b129db580"
   },
   "outputs": [
    {
     "name": "stdout",
     "output_type": "stream",
     "text": [
      "[[ 0  1  2  3]\n",
      " [ 4  5  6  7]\n",
      " [ 8  9 10 11]]\n",
      "66\n",
      "66\n",
      "[12 15 18 21]\n"
     ]
    }
   ],
   "source": [
    "import numpy as np\n",
    "a=np.arange(12).reshape(3,4)\n",
    "print(a)\n",
    "print(a.sum())    # 是呼叫numpy.array自身的sum()\n",
    "print(np.sum(a))  # numpy的內建函式numpy.sum()  ,对numpy进行的特定操作。\n",
    "print(sum(a))     # python sum函数, sum（） 对序列进行求和 "
   ]
  },
  {
   "cell_type": "markdown",
   "metadata": {
    "id": "vVrjBXabjxyS"
   },
   "source": [
    "### 2. 請對一個 5x5 的隨機矩陣作正規化的操作。\n"
   ]
  },
  {
   "cell_type": "code",
   "execution_count": null,
   "metadata": {
    "id": "ffDRVHs9jxyS"
   },
   "outputs": [],
   "source": [
    "# 記得先 Import 正確的套件\n",
    "import numpy as np"
   ]
  },
  {
   "cell_type": "code",
   "execution_count": 9,
   "metadata": {
    "id": "e1gVI0tvsvFY",
    "outputId": "43bf676f-fd04-4edf-c062-b5fe7fe1f4bf"
   },
   "outputs": [
    {
     "name": "stdout",
     "output_type": "stream",
     "text": [
      "A=\n",
      " [[0.92633654 0.80515108 0.47612448 0.61898174 0.57871526]\n",
      " [0.81603332 0.95488019 0.22731284 0.80978529 0.42816637]\n",
      " [0.38413582 0.90733088 0.07552672 0.89748048 0.10754257]\n",
      " [0.03330166 0.61407533 0.60686073 0.30770258 0.98804712]\n",
      " [0.46729833 0.35592835 0.94101658 0.73755237 0.43944088]]\n",
      "\n",
      "result=\n",
      " [[0.93536437 0.80843477 0.46381244 0.61344107 0.57126598]\n",
      " [0.81983281 0.96526098 0.20320723 0.81328863 0.41358113]\n",
      " [0.36746355 0.91545785 0.04422651 0.90514054 0.07775989]\n",
      " [0.         0.6083021  0.60074553 0.28740741 1.        ]\n",
      " [0.45456793 0.33791906 0.95074024 0.7376319  0.42539005]]\n"
     ]
    }
   ],
   "source": [
    "A = np.random.random((5, 5))\n",
    "print('A=\\n',A)\n",
    "print()\n",
    "range = np.max(A)-np.min(A)\n",
    "result = (A-np.min(A))/range\n",
    "print('result=\\n',result)"
   ]
  },
  {
   "cell_type": "markdown",
   "metadata": {
    "id": "Ptc3ZrNQjxyU"
   },
   "source": [
    "### 3. 請建立一個長度等於 10 的正整數向量，並且將其中的最大值改成 -1。\n"
   ]
  },
  {
   "cell_type": "code",
   "execution_count": 13,
   "metadata": {
    "id": "Yu1kbLxojxyU",
    "outputId": "d323e754-178a-46ae-e15e-98275ae220dd"
   },
   "outputs": [
    {
     "name": "stdout",
     "output_type": "stream",
     "text": [
      "A= [5 5 3 7 1 0 4 1 5 8]\n",
      "Result A= [ 5  5  3  7  1  0  4  1  5 -1]\n"
     ]
    }
   ],
   "source": [
    "import numpy as np\n",
    "A = np.random.randint(10,size=10)\n",
    "print('A=',A)\n",
    "A[np.argmax(A)] =-1\n",
    "print('Result A=',A)"
   ]
  },
  {
   "cell_type": "code",
   "execution_count": null,
   "metadata": {
    "id": "IoPlZnZgjxyV"
   },
   "outputs": [],
   "source": []
  },
  {
   "cell_type": "code",
   "execution_count": null,
   "metadata": {
    "id": "V5bMfGR_jxyV"
   },
   "outputs": [],
   "source": []
  }
 ],
 "metadata": {
  "colab": {
   "name": "06 Homework_維元.ipynb",
   "provenance": []
  },
  "kernelspec": {
   "display_name": "Python 3",
   "language": "python",
   "name": "python3"
  },
  "language_info": {
   "codemirror_mode": {
    "name": "ipython",
    "version": 3
   },
   "file_extension": ".py",
   "mimetype": "text/x-python",
   "name": "python",
   "nbconvert_exporter": "python",
   "pygments_lexer": "ipython3",
   "version": "3.8.8"
  }
 },
 "nbformat": 4,
 "nbformat_minor": 4
}
