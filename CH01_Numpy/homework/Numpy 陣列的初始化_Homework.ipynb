{
 "cells": [
  {
   "cell_type": "markdown",
   "metadata": {
    "colab_type": "text",
    "id": "P6xk2_jLsvFF"
   },
   "source": [
    "# [作業目標]\n",
    "\n",
    "1. [簡答題] 請比較 np.zeros 和 np.empty 產生出來的陣列有何差異？為什麼要設計兩種方法？\n",
    "\n",
    "```\n",
    "print(np.zeros((2, 3)))\n",
    "print(np.empty((2, 3)))\n",
    "```\n",
    "\n",
    "2. 在不用「整數亂數方法」的限制下，如何將包含小數的轉換整數？請將給定的 a 陣列當中的元素變成去掉小數變成整數。\n",
    "3. 承上題，怎樣可以限制整數的範圍介於 m - n 之間？請將給定的 a 陣列當中的元素的範圍調整成 m - n 之間。"
   ]
  },
  {
   "cell_type": "markdown",
   "metadata": {
    "colab_type": "text",
    "id": "uXGll28asvFS"
   },
   "source": [
    "# 作業 "
   ]
  },
  {
   "cell_type": "markdown",
   "metadata": {},
   "source": [
    "### 1. [簡答題] 請比較 np.zeros 和 np.empty 產生出來的陣列有何差異？為什麼要設計兩種方法？\n",
    "\n",
    "```\n",
    "print(np.zeros((2, 3)))\n",
    "print(np.empty((2, 3)))\n",
    "```\n"
   ]
  },
  {
   "cell_type": "code",
   "execution_count": 3,
   "metadata": {
    "colab": {},
    "colab_type": "code",
    "id": "5QrYoyNWsvFS"
   },
   "outputs": [
    {
     "data": {
      "text/plain": [
       "'\\nYour Code\\n'"
      ]
     },
     "execution_count": 3,
     "metadata": {},
     "output_type": "execute_result"
    }
   ],
   "source": [
    "A1:# np.zeros()函数返回一个元素全为0且给定形状和類型的數組\n",
    "   # np.empty()創建的数组中，包含的均是無意義的數值\n",
    "A2: 設計 np.zeros() 主要是運用在要給初值的情況\n",
    "    設計 np.empty() 主要運用只要產生陣列元素，值沒有意義，是創建最快的方法"
   ]
  },
  {
   "cell_type": "markdown",
   "metadata": {},
   "source": [
    "### 2. 在不用「整數亂數方法」的限制下，如何將包含小數的轉換整數？請將給定的 a 陣列當中的元素變成去掉小數變成整數。\n"
   ]
  },
  {
   "cell_type": "code",
   "execution_count": 9,
   "metadata": {
    "colab": {},
    "colab_type": "code",
    "id": "e1gVI0tvsvFY"
   },
   "outputs": [
    {
     "name": "stdout",
     "output_type": "stream",
     "text": [
      "a = [[ 6.23425572 -3.27478812 -4.62494336]\n",
      " [ 1.95091293  2.01063021 -8.46379127]]\n",
      "b = [[ 6 -3 -4]\n",
      " [ 1  2 -8]]\n"
     ]
    }
   ],
   "source": [
    "# '''\n",
    "import numpy as np\n",
    "a = np.random.randn(2, 3)*5\n",
    "print(\"a =\",a)\n",
    "b = a.astype(np.int32) \n",
    "print(\"b =\",b)\n",
    "# '''"
   ]
  },
  {
   "cell_type": "markdown",
   "metadata": {},
   "source": [
    "### 3. 承上題，怎樣可以限制整數的範圍介於 m - n 之間？請將給定的 a 陣列當中的元素的範圍調整成 m - n 之間。\n"
   ]
  },
  {
   "cell_type": "code",
   "execution_count": 21,
   "metadata": {},
   "outputs": [
    {
     "name": "stdout",
     "output_type": "stream",
     "text": [
      "a= [[ 0.45569196 -0.2687894   1.54890024]\n",
      " [-0.02332403 -0.08703889  0.09484014]]\n",
      "------------------------\n",
      "[ 0.45569196 -0.2687894   1.54890024]\n",
      "[-0.02332403 -0.08703889  0.09484014]\n",
      "a= [[29.11383921 14.62421207 50.97800483]\n",
      " [19.53351939 18.25922211 21.89680276]]\n",
      "b= [[29 14 50]\n",
      " [19 18 21]]\n"
     ]
    }
   ],
   "source": [
    "m = 20\n",
    "n = 40\n",
    "a = np.random.randn(2, 3)\n",
    "print('a=',a)\n",
    "print(\"------------------------\")\n",
    "# print(a)\n",
    "for index_x,i in enumerate(a):\n",
    "    print(i)\n",
    "    for index_y, j in enumerate(i):\n",
    "        a[index_x,index_y] =j*(n-m)+m\n",
    "print('a=',a)\n",
    "b = a.astype(np.int32) \n",
    "print('b=',b)"
   ]
  },
  {
   "cell_type": "code",
   "execution_count": null,
   "metadata": {},
   "outputs": [],
   "source": []
  },
  {
   "cell_type": "code",
   "execution_count": null,
   "metadata": {},
   "outputs": [],
   "source": []
  }
 ],
 "metadata": {
  "colab": {
   "name": "Day_023_HW.ipynb",
   "provenance": []
  },
  "kernelspec": {
   "display_name": "Python 3",
   "language": "python",
   "name": "python3"
  },
  "language_info": {
   "codemirror_mode": {
    "name": "ipython",
    "version": 3
   },
   "file_extension": ".py",
   "mimetype": "text/x-python",
   "name": "python",
   "nbconvert_exporter": "python",
   "pygments_lexer": "ipython3",
   "version": "3.8.8"
  }
 },
 "nbformat": 4,
 "nbformat_minor": 4
}
